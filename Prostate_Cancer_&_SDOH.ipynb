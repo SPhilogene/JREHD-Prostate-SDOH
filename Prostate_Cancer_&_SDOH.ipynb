{
  "nbformat": 4,
  "nbformat_minor": 0,
  "metadata": {
    "colab": {
      "provenance": [],
      "collapsed_sections": [
        "WyQ5K478asML",
        "IU_DUx7Oaw70",
        "S9yCVC8hgD1u",
        "Clz9YP-KN4uc",
        "we1rb9qMdNMS",
        "kasw3luBPK04",
        "uZDztSv5P7rD",
        "fCR0e8Kqqd3O"
      ],
      "authorship_tag": "ABX9TyMSJW5xQNmqk3dYQl9okSKl",
      "include_colab_link": true
    },
    "kernelspec": {
      "name": "python3",
      "display_name": "Python 3"
    },
    "language_info": {
      "name": "python"
    }
  },
  "cells": [
    {
      "cell_type": "markdown",
      "metadata": {
        "id": "view-in-github",
        "colab_type": "text"
      },
      "source": [
        "<a href=\"https://colab.research.google.com/github/SPhilogene/JREHD-Prostate-SDOH/blob/main/Prostate_Cancer_%26_SDOH.ipynb\" target=\"_parent\"><img src=\"https://colab.research.google.com/assets/colab-badge.svg\" alt=\"Open In Colab\"/></a>"
      ]
    },
    {
      "cell_type": "markdown",
      "metadata": {
        "id": "WyQ5K478asML"
      },
      "source": [
        "# Load Packages"
      ]
    },
    {
      "cell_type": "code",
      "metadata": {
        "id": "UNGqQ2yursYi"
      },
      "source": [
        "import warnings\n",
        "\n",
        "# basic packages\n",
        "import pandas as pd  # To read data\n",
        "import numpy as np # mapth\n",
        "from numpy import mean, std\n",
        "import matplotlib as mpl\n",
        "import matplotlib.pyplot as plt  # To visualize\n",
        "from matplotlib import colors\n",
        "import seaborn as sns # correlation & regression scatterplots\n",
        "import statsmodels.api as sm\n",
        "\n",
        "# regression modeling\n",
        "import scipy.stats as stats\n",
        "from scipy.stats import spearmanr, pearsonr\n",
        "from statsmodels.stats.outliers_influence import variance_inflation_factor\n",
        "import statsmodels.formula.api as smf\n",
        "from sklearn.linear_model import LinearRegression\n",
        "from sklearn.metrics import mean_squared_error,r2_score, mean_absolute_error\n",
        "from sklearn import model_selection, metrics\n",
        "from sklearn.model_selection import train_test_split, cross_val_score, RepeatedKFold\n",
        "from sklearn.feature_selection import VarianceThreshold,  SequentialFeatureSelector\n"
      ],
      "execution_count": null,
      "outputs": []
    },
    {
      "cell_type": "code",
      "source": [
        "!pip install contextily\n",
        "import contextily"
      ],
      "metadata": {
        "id": "GuJWn9qdR5XQ"
      },
      "execution_count": null,
      "outputs": []
    },
    {
      "cell_type": "code",
      "source": [
        "!pip install libpysal\n",
        "!pip install geopandas\n",
        "!pip install pysal\n",
        "# !pip install contextily # sometimes needed\n",
        "# !pip install mgwr\n",
        "\n",
        "# spatial analysis and modeling\n",
        "import geopandas as gpd\n",
        "import libpysal as ps\n",
        "import pysal\n",
        "from pysal.explore import esda\n",
        "from pysal.lib import weights\n",
        "from mgwr.gwr import GWR, MGWR\n",
        "from mgwr.sel_bw import Sel_BW\n",
        "from mgwr.utils import shift_colormap, truncate_colormap\n",
        "import contextily"
      ],
      "metadata": {
        "id": "V3vlC4If5SDR"
      },
      "execution_count": null,
      "outputs": []
    },
    {
      "cell_type": "code",
      "source": [
        "from mgwr.gwr import GWR, MGWR\n",
        "from mgwr.sel_bw import Sel_BW\n",
        "from mgwr.utils import shift_colormap, truncate_colormap"
      ],
      "metadata": {
        "id": "kugxhcKsXvis"
      },
      "execution_count": null,
      "outputs": []
    },
    {
      "cell_type": "code",
      "metadata": {
        "id": "3PjxX5XmkGFa"
      },
      "source": [
        "#### **********************************************************************\n",
        "#### ***************** FORWARD STEPWISE SELECTION METHOD ******************\n",
        "#### **********************************************************************\n",
        "\n",
        "# **** Created on Mon Jul 16 14:45:40 2018\n",
        "# **** @author: kaygo\n",
        "# **** https://github.com/KaygoYM/Big-Data-Prediction/blob/master/forward_selected.py\n",
        "#\n",
        "\n",
        "def forward_selected(data, response):\n",
        "    \"\"\"Linear model designed by forward selection.\n",
        "\n",
        "    Parameters:\n",
        "    -----------\n",
        "    data : pandas DataFrame with all possible predictors and response\n",
        "\n",
        "    response: string, name of response column in data\n",
        "\n",
        "    Returns:\n",
        "    --------\n",
        "    model: an \"optimal\" fitted statsmodels linear model\n",
        "           with an intercept\n",
        "           selected by forward selection\n",
        "           evaluated by adjusted R-squared\n",
        "    \"\"\"\n",
        "    remaining = set(data.columns)\n",
        "    remaining.remove(response)\n",
        "    selected = []\n",
        "    current_score, best_new_score = 0.0, 0.0\n",
        "    while remaining and current_score == best_new_score:\n",
        "        scores_with_candidates = []\n",
        "        for candidate in remaining:\n",
        "            formula = \"{} ~ {} + 1\".format(response,\n",
        "                                           ' + '.join(selected + [candidate]))\n",
        "            score = smf.ols(formula, data).fit().rsquared_adj\n",
        "            scores_with_candidates.append((score, candidate))\n",
        "        scores_with_candidates.sort()\n",
        "        best_new_score, best_candidate = scores_with_candidates.pop()\n",
        "        if current_score < best_new_score:\n",
        "            remaining.remove(best_candidate)\n",
        "            selected.append(best_candidate)\n",
        "            current_score = best_new_score\n",
        "    formula = \"{} ~ {} + 1\".format(response,\n",
        "                                   ' + '.join(selected))\n",
        "    model = smf.ols(formula, data).fit()\n",
        "    return model"
      ],
      "execution_count": null,
      "outputs": []
    },
    {
      "cell_type": "markdown",
      "source": [
        "#### Box Cox transformations for normal distributions"
      ],
      "metadata": {
        "id": "0lx9sPL5Cq2P"
      }
    },
    {
      "cell_type": "code",
      "source": [
        "# # Box Cox transformations on each variable to improve normality of the distribution\n",
        "\n",
        "# def transformations(x):\n",
        "\n",
        "#   n2 = x**-2 if x != 0 else 0\n",
        "#   n1_5 = x**-1.5 if x != 0 else 0\n",
        "#   n1 = x**-1 if x != 0 else 0\n",
        "#   n0_5 = x**-0.5 if x != 0 else 0\n",
        "#   log = np.log(x) if x != 0 else 0\n",
        "#   p0_5 = x**0.5 if x != 0 else 0\n",
        "#   x = x\n",
        "#   p1_5 = x**1.5 if x != 0 else 0\n",
        "#   p2 = x**2 if x != 0 else 0\n",
        "\n",
        "#   return pd.Series([n2,n1_5, n1, n0_5, log, p0_5, x, p1_5, p2])\n",
        "\n",
        "\n",
        "# def logTransform(x):\n",
        "#   log = np.log(x) if x != 0 else 0\n",
        "#   return pd.Series([log])\n",
        "\n",
        "\n",
        "# def sqRTransform(x):\n",
        "#   p0_5 = x**0.5 if x != 0 else 0\n",
        "#   return pd.Series([p0_5])"
      ],
      "metadata": {
        "id": "CC4Z1qTJBTIo"
      },
      "execution_count": null,
      "outputs": []
    },
    {
      "cell_type": "markdown",
      "metadata": {
        "id": "IU_DUx7Oaw70"
      },
      "source": [
        "# Data Preprocessing"
      ]
    },
    {
      "cell_type": "markdown",
      "source": [
        "## Read Data"
      ],
      "metadata": {
        "id": "S9yCVC8hgD1u"
      }
    },
    {
      "cell_type": "code",
      "source": [
        "newYork = pd.read_csv('NYC Prostate.csv') # read in NYSCR data\n",
        "newYork.head()"
      ],
      "metadata": {
        "id": "dTp1KFVPgJ74"
      },
      "execution_count": null,
      "outputs": []
    },
    {
      "cell_type": "code",
      "source": [
        "# Read in shapefile and limit to study area for spatial analysis\n",
        "\n",
        "State = gpd.read_file(\"tl_2015_36_tract.shp\") # tigerline includes GEOID and all NYS\n",
        "State['point'] = State.centroid # centroids to get x,y coordinates\n",
        "\n",
        "State['GEOID'] = State['GEOID'].astype(int)\n",
        "p = ['005','047','061','081','085']\n",
        "\n",
        "NYC = State[State['COUNTYFP'].isin(p)].reset_index(drop=True)"
      ],
      "metadata": {
        "id": "MBwIN6CY1bom"
      },
      "execution_count": null,
      "outputs": []
    },
    {
      "cell_type": "markdown",
      "source": [
        "## Demographic Data"
      ],
      "metadata": {
        "id": "yowi0vewvh9d"
      }
    },
    {
      "cell_type": "code",
      "source": [
        "demographs = pd.read_csv('Demog 2015 Male.csv')\n",
        "demographs = demographs.drop(['County','NAME'], axis=1)\n",
        "# demographs = demographs.rename(columns={'Tract':'GEOID'})\n",
        "demographs = demographs.replace([np.inf, -np.inf, np.nan], 0)\n",
        "demographs = demographs.drop(demographs.filter(regex='Female|female|Women|women|Woman|woman').columns, axis=1)\n",
        "outcomeDemo = pd.merge(left=newYork, right=demographs, how='left')\n",
        "outcomeDemo = outcomeDemo.replace([np.inf, -np.inf, np.nan], 0)\n",
        "outcomeDemo"
      ],
      "metadata": {
        "id": "YOn7ffjBvj8D"
      },
      "execution_count": null,
      "outputs": []
    },
    {
      "cell_type": "markdown",
      "source": [
        "## Health Outcomes *(PLACES 2020 Release)*"
      ],
      "metadata": {
        "id": "Clz9YP-KN4uc"
      }
    },
    {
      "cell_type": "code",
      "source": [
        "places = pd.read_csv('PLACES 2015.csv')\n",
        "# State['GEOID'] = State['GEOID'].astype(int)\n",
        "# places = pd.merge(left=newYork, right=places, how='left')\n",
        "outcomeDemoPlace = pd.merge(left=outcomeDemo, right=places, how='left')\n",
        "outcomeDemoPlace"
      ],
      "metadata": {
        "id": "JWGvadLAPgCf"
      },
      "execution_count": null,
      "outputs": []
    },
    {
      "cell_type": "markdown",
      "source": [
        "## '#' Remediations Sites"
      ],
      "metadata": {
        "id": "f0l5OlwBfx8D"
      }
    },
    {
      "cell_type": "code",
      "source": [
        "# analyze all together and by site type\n",
        "\n",
        "remediation = gpd.read_file(\"Remediation_Sites.shp\")\n",
        "activeLandfill = gpd.read_file(\"Active_Landfills.shp\").to_crs(remediation.crs)\n",
        "inactiveLandfill = gpd.read_file(\"Inactive_Solid_Waste_Landfills.shp\").to_crs(remediation.crs)\n",
        "site2 = remediation[remediation['SITECLASS'].str.contains('2')]\n",
        "site3 = remediation[remediation['SITECLASS'].str.contains('3')]\n",
        "site4 = remediation[remediation['SITECLASS'].str.contains('4')]\n",
        "siteTox = remediation[remediation['SITECLASS'].str.contains('2|3|4')]\n",
        "landfillName = remediation[remediation['SITENAME'].str.contains(\"Landfill\")]\n",
        "# contextily.add_basemap(ax, crs=map11t21.crs, source=contextily.providers.CartoDB.Voyager)\n",
        "\n",
        "print('remediation', len(remediation))\n",
        "print('activeLandfill', len(activeLandfill))\n",
        "print('inactiveLandfill', len(inactiveLandfill))\n",
        "print('site 2', len(remediation[remediation['SITECLASS'].str.contains('2')]))\n",
        "print('site 3', len(remediation[remediation['SITECLASS'].str.contains('3')]))\n",
        "print('site 4', len(remediation[remediation['SITECLASS'].str.contains('4')]))\n",
        "print('site 2,3,4', len(remediation[remediation['SITECLASS'].str.contains('2|3|4')]))\n",
        "print('landfills', len(remediation[remediation['SITENAME'].str.contains(\"Landfill\")]))#.plot()"
      ],
      "metadata": {
        "id": "r3FuDgfH3dko"
      },
      "execution_count": null,
      "outputs": []
    },
    {
      "cell_type": "code",
      "source": [
        "spatialJoinRem = gpd.sjoin(remediation, NYC).reset_index(drop=True)\n",
        "spatialJoinAct = gpd.sjoin(activeLandfill, NYC).reset_index(drop=True)\n",
        "spatialJoinInact = gpd.sjoin(inactiveLandfill, NYC).reset_index(drop=True)\n",
        "spatialJoinSite2 = gpd.sjoin(site2, NYC).reset_index(drop=True)\n",
        "spatialJoinSite3 = gpd.sjoin(site3, NYC).reset_index(drop=True)\n",
        "spatialJoinSite4 = gpd.sjoin(site4, NYC).reset_index(drop=True)\n",
        "spatialJoinTox = gpd.sjoin(siteTox, NYC).reset_index(drop=True)\n",
        "spatialJoinLandfill = gpd.sjoin(landfillName, NYC).reset_index(drop=True)\n",
        "\n",
        "remediationTractCount = spatialJoinRem[['OBJECTID', 'GEOID']].groupby(['GEOID']).count().reset_index().rename(columns= {'OBJECTID':'remediationTractCount'})\n",
        "activeTractCount = spatialJoinAct[['FACILITY_N', 'GEOID']].groupby(['GEOID']).count().reset_index().rename(columns= {'FACILITY_N':'activeTractCount'})\n",
        "inactiveTractCount = spatialJoinInact[['FACILITY_N', 'GEOID']].groupby(['GEOID']).count().reset_index().rename(columns= {'FACILITY_N':'inactiveTractCount'})\n",
        "site2TractCount = spatialJoinSite2[['OBJECTID', 'GEOID']].groupby(['GEOID']).count().reset_index().rename(columns= {'OBJECTID':'site2TractCount'})\n",
        "site3TractCount = spatialJoinSite3[['OBJECTID', 'GEOID']].groupby(['GEOID']).count().reset_index().rename(columns= {'OBJECTID':'site3TractCount'})\n",
        "site4TractCount = spatialJoinSite4[['OBJECTID', 'GEOID']].groupby(['GEOID']).count().reset_index().rename(columns= {'OBJECTID':'site4TractCount'})\n",
        "toxTractCount = spatialJoinTox[['OBJECTID', 'GEOID']].groupby(['GEOID']).count().reset_index().rename(columns= {'OBJECTID':'toxTractCount'})\n",
        "landfillTractCount = spatialJoinLandfill[['OBJECTID', 'GEOID']].groupby(['GEOID']).count().reset_index().rename(columns= {'OBJECTID':'landfillTractCount'})"
      ],
      "metadata": {
        "id": "as96bq_byj8k"
      },
      "execution_count": null,
      "outputs": []
    },
    {
      "cell_type": "code",
      "source": [
        "outcomeDemoPlaceRem = outcomeDemoPlace.merge(remediationTractCount,on='GEOID',how='left').merge(activeTractCount,on='GEOID',how='left').merge(inactiveTractCount,on='GEOID',how='left').merge(site2TractCount,on='GEOID',how='left').merge(site3TractCount,on='GEOID',how='left').merge(site4TractCount,on='GEOID',how='left').merge(toxTractCount,on='GEOID',how='left').merge(landfillTractCount,on='GEOID',how='left')\n",
        "outcomeDemoPlaceRem = outcomeDemoPlaceRem.replace([np.inf, -np.inf, np.nan], 0)\n",
        "\n",
        "outcomeDemoPlaceRem.head()"
      ],
      "metadata": {
        "id": "jbs-XnMw_J-w"
      },
      "execution_count": null,
      "outputs": []
    },
    {
      "cell_type": "markdown",
      "source": [
        "## Emissions/Air Quality"
      ],
      "metadata": {
        "id": "we1rb9qMdNMS"
      }
    },
    {
      "cell_type": "code",
      "source": [
        "Emissions = pd.read_csv('Log Emissions.csv')\n",
        "Emissions['Total_Conc'] = abs(Emissions['Total_Conc'])\n",
        "Emissions = Emissions.replace([np.inf, -np.inf, np.nan], 0)\n",
        "\n",
        "cols = ['Total_Conc',\n",
        "       'Total_Exposure_Conc', 'Total_Cancer',\n",
        "       'Total_Respiratory_HI']\n",
        "\n",
        "Emissions[cols] = Emissions[cols].apply(pd.to_numeric, errors='coerce')\n",
        "\n",
        "Emissions.head()"
      ],
      "metadata": {
        "id": "NTRVipBzdQOg"
      },
      "execution_count": null,
      "outputs": []
    },
    {
      "cell_type": "code",
      "source": [
        "# rename pollutants that start with number, add leading character to prevent syntax errors\n",
        "\n",
        "Emissions['Pollutant_Name'] = np.where([i.startswith((\"1\",\"2\",\"3\",\"4\")) for i in Emissions['Pollutant_Name']],'c'+Emissions['Pollutant_Name'],Emissions['Pollutant_Name'])\n",
        "\n",
        "pollutants = Emissions['Pollutant_Name'].unique()\n",
        "# pollutants"
      ],
      "metadata": {
        "id": "e1Vmx-WZOYje"
      },
      "execution_count": null,
      "outputs": []
    },
    {
      "cell_type": "code",
      "source": [
        "# pivot\n",
        "pollutants = Emissions['Pollutant_Name'].unique()\n",
        "df4 = Emissions[Emissions['Pollutant_Name'] == pollutants[0]][['County','FIPS','Tract','Population']].reset_index(drop=True)\n",
        "\n",
        "for d in pollutants:\n",
        "  df4[d+'_Total_Conc'] = Emissions[Emissions['Pollutant_Name'] == d]['Total_Conc'].reset_index(drop=True)\n",
        "  # df4[d+'_Total_Expos'] = Emissions[Emissions['Pollutant_Name'] == d]['Total_Exposure_Conc'].reset_index(drop=True)\n",
        "\n",
        "df4"
      ],
      "metadata": {
        "id": "fPss9rSiG1fe"
      },
      "execution_count": null,
      "outputs": []
    },
    {
      "cell_type": "markdown",
      "source": [
        "## Combine All Data"
      ],
      "metadata": {
        "id": "kasw3luBPK04"
      }
    },
    {
      "cell_type": "code",
      "source": [
        "allData = pd.merge(left=outcomeDemoPlaceRem, right=df4.iloc[:, 2:], left_on='GEOID', right_on='Tract', how='left')\n",
        "allData = allData.drop(['CountyName','Geolocation'], axis=1)\n",
        "allData = allData.replace([np.inf, -np.inf, np.nan], 0)"
      ],
      "metadata": {
        "id": "VpNAOhfCsOzw"
      },
      "execution_count": null,
      "outputs": []
    },
    {
      "cell_type": "markdown",
      "source": [
        "# All Data LISA"
      ],
      "metadata": {
        "id": "uZDztSv5P7rD"
      }
    },
    {
      "cell_type": "code",
      "source": [
        "NYC = gpd.read_file(\"geo_export_bdbf7bca-75d9-403c-85cb-132a46cffdf9.shp\")\n",
        "NYC['point'] = NYC.centroid\n",
        "NYC['boro_ct201'] = NYC['boro_ct201'].astype(int)\n",
        "\n",
        "mapIt = pd.merge(left=NYC, right=allData)#[allData['Prostate_SIR'] < 4])\n",
        "geoAllData = gpd.GeoDataFrame(mapIt, geometry=\"geometry\").to_crs(crs=\"EPSG:2263\")\n",
        "geoIncluData = geoAllData[~(geoAllData['Prostate_SIR'] < 0.2) & ~(geoAllData['Prostate_SIR'] >= 4)] #3sd - remove extreme outliers\n",
        "geoModerateData = geoAllData[~(geoAllData['Prostate_SIR'] < 0.344) & ~(geoAllData['Prostate_SIR'] >= 2.6)] # 2sd - remove moderate outliers\n",
        "geoOutlierData = geoAllData[(geoAllData['Prostate_SIR'] < 0.344) | (geoAllData['Prostate_SIR'] >= 2.6)]\n",
        "xOutlier = geoAllData[(geoAllData['Prostate_SIR'] < 0.2) | (geoAllData['Prostate_SIR'] >= 4)] # only 3sd outliers\n",
        "geoAllData = geoAllData.drop(['boro_ct201'], axis=1)\n",
        "\n",
        "boro = gpd.read_file(\"geo_export_07056f3a-e540-49fa-b98d-78295b1e1c85.shp\").to_crs(crs=\"EPSG:2263\")\n",
        "boro['point'] = boro.centroid"
      ],
      "metadata": {
        "id": "Qg2rXMvPP7rE"
      },
      "execution_count": null,
      "outputs": []
    },
    {
      "cell_type": "code",
      "source": [
        "# print(len(data))\n",
        "print(len(allData))\n",
        "print(len(geoAllData)) # all\n",
        "print(len(geoIncluData)) # within 3sd\n",
        "print(len(geoModerateData)) # within 2sd\n",
        "print(len(geoOutlierData)) # outside 2sd outliers\n",
        "print(len(xOutlier)) # outside 3sd outliers"
      ],
      "metadata": {
        "id": "la3f-w7848by"
      },
      "execution_count": null,
      "outputs": []
    },
    {
      "cell_type": "code",
      "source": [
        "fig, ax = plt.subplots(1, figsize=(9, 9))#, dpi=300)\n",
        "\n",
        "boro.plot('boro_name', ax=ax, cmap='tab10', edgecolor='lightgray')\n",
        "\n",
        "for x, y, label in zip(boro.point.x, boro.point.y, boro.boro_name):\n",
        "    ax.annotate(label, xy=(x, y), xytext=(-30, 0), textcoords=\"offset points\")\n",
        "contextily.add_basemap(ax=ax, crs=boro.crs, source=contextily.providers.CartoDB.Voyager)\n",
        "\n",
        "ax.set_axis_off()\n",
        "plt.title(\"New York City\")\n",
        "# plt.savefig('Fig1.png', dpi=300)"
      ],
      "metadata": {
        "id": "hMa7InMAUq_v"
      },
      "execution_count": null,
      "outputs": []
    },
    {
      "cell_type": "code",
      "source": [
        "fig, ax = plt.subplots(1, figsize=(9, 9))#, dpi=300)\n",
        "geoIncluData.plot('Prostate_SIR', cmap='Blues', scheme='naturalbreaks',  k=6, ax=ax, legend=True, legend_kwds={'loc': 'upper left'})\n",
        "boro.plot('boro_name', ax=ax, facecolor=\"none\", edgecolor='black', linewidth=.5)\n",
        "xOutlier.plot('Prostate_SIR', ax=ax, facecolor='none',  hatch='++', edgecolor='black', linewidth=1.4) # excluded tracts\n",
        "# geoIncluData[geoIncluData['Signif'] == 'Y'].plot('Signif', ax=ax, facecolor='None', alpha=.5, edgecolor='cyan')\n",
        "contextily.add_basemap(ax=ax, crs=geoAllData.crs, source=contextily.providers.CartoDB.Voyager)\n",
        "\n",
        "ax.set_axis_off()\n",
        "plt.title(\"Ratio of Observed/Expected Cases (within 3\\u03C3)\")\n",
        "# plt.savefig('Fig2.png', dpi=300)"
      ],
      "metadata": {
        "id": "9_YYsdvazDkz"
      },
      "execution_count": null,
      "outputs": []
    },
    {
      "cell_type": "code",
      "source": [
        "w = ps.weights.Queen.from_dataframe(geoIncluData) # calculate spatial weight based data and conceptualized spatial relationships is Queens case (aka contiguity edges corners)\n",
        "w.transform = 'r' # row standardize\n",
        "y = geoIncluData['Prostate_SIR'].values.reshape((-1,1)).astype('int64')\n",
        "\n",
        "mi = esda.moran.Moran(y, w, permutations= 9999) # p < 0.001 at 999 permutations\n",
        "print('Observed Value:', mi.I, '| Expected Value:', mi.EI, '| Z-Score', mi.z_norm, '| Significance:', mi.p_sim)\n",
        "print('')\n",
        "print(\"The Global Moran's I statistics indicates that the data exhibits a statistically significant clustering pattern\")\n",
        "\n",
        "lisa = esda.moran.Moran_Local(y, w, permutations= 9999)\n",
        "\n",
        "sig = 1 * (lisa.p_sim < 0.05) # creates binary (based on T/F)\n",
        "hotspot = 1 * (sig * lisa.q==1)\n",
        "coldspot = 3 * (sig * lisa.q==3)\n",
        "ice = 2 * (sig * lisa.q==2)\n",
        "fire = 4 * (sig * lisa.q==4)\n",
        "spots = hotspot + coldspot + ice + fire\n",
        "\n",
        "spot_labels = [ '0 Not Significant', '1 Hot Spot (HH)', '2 Cold Outlier (LH)', '3 Cold Spot (LL)', '4 Hot Outlier (HL)']\n",
        "labels = [spot_labels[i] for i in spots]\n",
        "\n",
        "hmap = colors.ListedColormap([ '#E5E4E2', 'red', 'cornflowerblue', 'blue', 'pink']) # cornflower = #6395ed\n",
        "fig, ax = plt.subplots(1, figsize=(9, 9))#, dpi=300)\n",
        "cc = geoIncluData.assign(COanalysis=labels).plot(column='COanalysis', categorical=True, \\\n",
        "        k=2, cmap=hmap, linewidth=0.5, ax=ax, \\\n",
        "        edgecolor='white', legend=True, legend_kwds={'loc': 'upper left'})\n",
        "plt.title(\"Cluster Outlier Analysis: New York City (within 3\\u03C3)\")\n",
        "\n",
        "boro.plot('boro_name', ax=ax, facecolor=\"none\", edgecolor='black')\n",
        "contextily.add_basemap(ax, crs=geoIncluData.crs, source=contextily.providers.CartoDB.Voyager)\n",
        "\n",
        "ax.set_axis_off()\n",
        "plt.show()\n",
        "# plt.savefig('Fig2.png', dpi=300)"
      ],
      "metadata": {
        "id": "EGRGWETgq70Z"
      },
      "execution_count": null,
      "outputs": []
    },
    {
      "cell_type": "code",
      "source": [
        "# nnumber of tracts classified as each type\n",
        "look = geoIncluData.assign(COanalysis=labels).reset_index(drop=True)\n",
        "look[['Prostate_SIR', 'COanalysis']].groupby('COanalysis').count()"
      ],
      "metadata": {
        "id": "2a8gyBogaYEB"
      },
      "execution_count": null,
      "outputs": []
    },
    {
      "cell_type": "markdown",
      "source": [
        "# Regression"
      ],
      "metadata": {
        "id": "fCR0e8Kqqd3O"
      }
    },
    {
      "cell_type": "markdown",
      "source": [
        "## Linear"
      ],
      "metadata": {
        "id": "CMHU7B63A5Xj"
      }
    },
    {
      "cell_type": "markdown",
      "source": [
        "### Correlation"
      ],
      "metadata": {
        "id": "UmgfQG9QqWxS"
      }
    },
    {
      "cell_type": "code",
      "source": [
        "ctyDataCorr = geoIncluData.iloc[:, 19:].drop('Signif',axis=1).reset_index(drop=True).corr().unstack()\n",
        "\n",
        "correlates = ctyDataCorr['Prostate_SIR'][(ctyDataCorr['Prostate_SIR']>=.3) | (ctyDataCorr['Prostate_SIR']<=-.3)]\n",
        "correlates.to_frame() #.to_csv('correlation.csv') # analyze or read to csv"
      ],
      "metadata": {
        "id": "KyDrif_tLfus"
      },
      "execution_count": null,
      "outputs": []
    },
    {
      "cell_type": "code",
      "source": [
        "## Correlated variables subset with source table\n",
        "\n",
        "## geoIncluData[['Prostate_SIR','S2201_Pct_RACE_AND_HISPANIC_OR_LATINO_ORIGIN_OF_HOUSEHOLDER_Black_or_African_American_alone',\n",
        "## 'S0601_Median_income_dollars','B05006_Americas_Latin_America_Caribbean','S2201_Pct_RACE_AND_HISPANIC_OR_LATINO_ORIGIN_OF_HOUSEHOLDER_White_alone',\n",
        "## 'S2201_Pct_White_alone_not_Hispanic_or_Latino', 'S2201_Pct_households_receiving_food_stamps_SNAP_Estimate_RACE_AND_HISPANIC_OR_LATINO_ORIGIN_OF_HOUSEHOLDER_White_alone',\n",
        "## 'S2201_Pct_households_not_receiving_food_stamps_SNAP_Estimate_RACE_AND_HISPANIC_OR_LATINO_ORIGIN_OF_HOUSEHOLDER_White_alone',\n",
        "## 'DP05_Pct_RACE_One_race_Asian', 'S2201_Pct_RACE_AND_HISPANIC_OR_LATINO_ORIGIN_OF_HOUSEHOLDER_Black_or_African_American_alone',\n",
        "## 'DP05_Pct_RACE_One_race_Black_or_African_American', 'S2201_Pct_households_receiving_food_stamps_SNAP_Estimate_RACE_AND_HISPANIC_OR_LATINO_ORIGIN_OF_HOUSEHOLDER_Black_or_African_American_alone',\n",
        "## 'S1501_Black_alone_High_school_graduate_or_higher', 'S1501_Males_Estimate_Black_alone_High_school_graduate_or_higher',\n",
        "## 'S2701_Pct_Insured_Estimate_EDUCATIONAL_ATTAINMENT_Civilian_noninstitutionalized_population_25_years_and_over_Some_college_or_associates_degree',\n",
        "## 'CASTHMA_CrudePrev', 'S2701_Insured_Estimate_RACE_AND_HISPANIC_OR_LATINO_ORIGIN_Black_or_African_American_alone',\n",
        "## 'B04006_West_Indian', 'S2201_Pct_HOUSEHOLD_TYPE_Other_family', 'S1501_Black_alone_Bachelors_degree_or_higher',\n",
        "## 'S2701_Pct_Insured_Estimate_RATIO_OF_INCOME_TO_POVERTY_LEVEL_IN_THE_PAST_12_MONTHS_Civilian_noninstitutionalized_population_for_whom_poverty_status_is_determined_200_to_399_Pct_of_the_poverty_threshold',\n",
        "## 'CHECKUP_CrudePrev', 'S1501_Males_Estimate_Black_alone_Bachelors_degree_or_higher', 'BPHIGH_CrudePrev', 'S1701_Below_poverty_level_Estimate_RACE_AND_HISPANIC_OR_LATINO_ORIGIN_Black_or_African_American_alone',\n",
        "## 'S2501_Owner_occupied_housing_units_Estimate_HOUSEHOLD_TYPE_INCLUDING_LIVING_ALONE_AND_AGE_OF_HOUSEHOLDER_Family_households_Married_couple_family',\n",
        "## 'S0701_Moved_within_same_county_Estimate_POVERTY_STATUS_IN_THE_PAST_12_MONTHS_Population_1_year_and_over_for_whom_poverty_status_is_determined_At_or_above_150_Pct_of_the_poverty_level',\n",
        "## 'S2701_Pct_Insured_Estimate_EDUCATIONAL_ATTAINMENT_Civilian_noninstitutionalized_population_25_years_and_over_Some_college_or_associates_degree',\n",
        "## 'S2701_Pct_Insured_Estimate_RATIO_OF_INCOME_TO_POVERTY_LEVEL_IN_THE_PAST_12_MONTHS_Civilian_noninstitutionalized_population_for_whom_poverty_status_is_determined_138_to_199_Pct_of_the_poverty_threshold',\n",
        "## 'S0601_MARITAL_STATUS_Population_15_years_and_over_Divorced_or_separated','DP05_SEX_AND_AGE_Median_age_years']]"
      ],
      "metadata": {
        "id": "DF6APeUpqESk"
      },
      "execution_count": null,
      "outputs": []
    },
    {
      "cell_type": "code",
      "source": [
        "## exclude greater than 2sd\n",
        "# ctyDataCorr = geoModerateData.iloc[:, 19:].reset_index(drop=True).corr().unstack()\n",
        "\n",
        "# correlates = ctyDataCorr['Prostate_SIR'][(ctyDataCorr['Prostate_SIR']>=.3) | (ctyDataCorr['Prostate_SIR']<=-.3)]\n",
        "# correlates.to_frame()"
      ],
      "metadata": {
        "id": "rMfKmkfxRjzx"
      },
      "execution_count": null,
      "outputs": []
    },
    {
      "cell_type": "code",
      "source": [
        "## only greater than 2sd\n",
        "# ctyDataCorr = geoOutlierData.iloc[:, 19:].reset_index(drop=True).corr().unstack()\n",
        "\n",
        "# correlates = ctyDataCorr['Prostate_SIR'][(ctyDataCorr['Prostate_SIR']>=.3) | (ctyDataCorr['Prostate_SIR']<=-.3)]\n",
        "# correlates.to_frame()"
      ],
      "metadata": {
        "id": "SnSa0o82RmdH"
      },
      "execution_count": null,
      "outputs": []
    },
    {
      "cell_type": "markdown",
      "source": [
        "### Forward Selection"
      ],
      "metadata": {
        "id": "IFoCeuVxmIwa"
      }
    },
    {
      "cell_type": "code",
      "source": [
        "olsObs = geoIncluData[['Prostate_SIR','S2201_Pct_RACE_AND_HISPANIC_OR_LATINO_ORIGIN_OF_HOUSEHOLDER_Black_or_African_American_alone',\n",
        "'S0601_Native_born_in_state_of_residence_Estimate_RACE_AND_HISPANIC_OR_LATINO_ORIGIN_One_race_Black_or_African_American',\n",
        "'S2201_Pct_households_receiving_food_stamps_SNAP_Estimate_RACE_AND_HISPANIC_OR_LATINO_ORIGIN_OF_HOUSEHOLDER_Black_or_African_American_alone',\n",
        "'S2701_Insured_Estimate_RACE_AND_HISPANIC_OR_LATINO_ORIGIN_Black_or_African_American_alone',\n",
        "'S1501_Black_alone_High_school_graduate_or_higher',\n",
        "'S2701_Uninsured_Estimate_RACE_AND_HISPANIC_OR_LATINO_ORIGIN_Black_or_African_American_alone',\n",
        "'CASTHMA_CrudePrev',\n",
        "'OBESITY_CrudePrev',\n",
        "'B04006_West_Indian',\n",
        "'S2201_Households_not_receiving_food_stamps_SNAP_Estimate_RACE_AND_HISPANIC_OR_LATINO_ORIGIN_OF_HOUSEHOLDER_Black_or_African_American_alone',\n",
        "'S1501_Black_alone_Bachelors_degree_or_higher',\n",
        "'S1501_Males_Estimate_Black_alone_Bachelors_degree_or_higher',\n",
        "'B05007_Latin_America_Caribbean_Entered_before_1990',\n",
        "'B05007_Latin_America_Caribbean_Entered_before_1990_Naturalized_US_citizen',\n",
        "'B05006_Americas_Latin_America_Caribbean',\n",
        "'B05007_Latin_America_Caribbean_Entered_1990_to_1999_Naturalized_US_citizen',\n",
        "'CHECKUP_CrudePrev',\n",
        "'S2201_Pct_households_not_receiving_food_stamps_SNAP_Estimate_HOUSEHOLD_TYPE_With_children_under_18_years_Other_family',\n",
        "'B05006_Americas_Latin_America_Caribbean_Jamaica',\n",
        "'B04006_West_Indian_Jamaican',\n",
        "'B05007_Latin_America_Caribbean_Entered_1990_to_1999',\n",
        "'B05002_Foreign_born_Naturalized_US_citizen_Latin_America',\n",
        "'B05007_Latin_America_Caribbean_Entered_2000_to_2009',\n",
        "'B04006_Subsaharan_African',\n",
        "'BPHIGH_CrudePrev',\n",
        "'S1603_Speak_only_English_at_home_Estimate_NATIVITY_AND_CITIZENSHIP_STATUS_Foreign_born',\n",
        "'S0601_MARITAL_STATUS_Population_15_years_and_over_Divorced_or_separated',\n",
        "'B05007_Latin_America_Caribbean_Entered_2000_to_2009_Not_a_US_citizen',\n",
        "'B05007_Latin_America_Caribbean_Entered_before_1990_Not_a_US_citizen',\n",
        "'DP05_Pct_RACE_One_race_Asian',\n",
        "'S0601_Native_born_in_state_of_residence_Estimate_RACE_AND_HISPANIC_OR_LATINO_ORIGIN_One_race_White',\n",
        "'S2201_Pct_households_not_receiving_food_stamps_SNAP_Estimate_RACE_AND_HISPANIC_OR_LATINO_ORIGIN_OF_HOUSEHOLDER_Black_or_African_American_alone',\n",
        "'DP05_Pct_HISPANIC_OR_LATINO_AND_RACE_Total_population_Not_Hispanic_or_Latino_Black_or_African_American_alone',\n",
        "'S1501_Males_Estimate_Black_alone_High_school_graduate_or_higher',\n",
        "'S2501_Occupied_housing_units_Estimate_HOUSEHOLD_TYPE_INCLUDING_LIVING_ALONE_AND_AGE_OF_HOUSEHOLDER_Family_households_Other_family',\n",
        "'S2201_Households_receiving_food_stamps_SNAP_Estimate_RACE_AND_HISPANIC_OR_LATINO_ORIGIN_OF_HOUSEHOLDER_Black_or_African_American_alone',\n",
        "'SLEEP_CrudePrev',\n",
        "'S2201_Pct_households_receiving_food_stamps_SNAP_Estimate_White_alone_not_Hispanic_or_Latino',\n",
        "'S0601_Native_born_in_state_of_residence_Estimate_White_alone_not_Hispanic_or_Latino', 'B12001_Male_Divorced',\n",
        "'B12001_Male_Now_married_Married_spouse_present',\n",
        "'B12001_Male_Never_married', 'B12001_Male_Now_married',\n",
        "'B12001_Male_Now_married_Married_spouse_absent',\n",
        "'B12001_Male_Widowed','S0701_MARITAL_STATUS_Population_15_years_and_over_Never_married',\n",
        "'S2201_Pct_HOUSEHOLD_TYPE_Married_couple_family',]]\n",
        "#'logSIR',\n",
        "\n",
        "model = forward_selected(olsObs, 'Prostate_SIR')\n",
        "\n",
        "print(model.model.formula)\n",
        "# y ~ X1 + X2 + ... + 1\n",
        "\n",
        "print(model.rsquared_adj)"
      ],
      "metadata": {
        "id": "4nviMl42sPpf"
      },
      "execution_count": null,
      "outputs": []
    },
    {
      "cell_type": "code",
      "source": [
        "## short list\n",
        "\n",
        "# olsObs = geoIncluData[['Prostate_SIR','S2201_Pct_RACE_AND_HISPANIC_OR_LATINO_ORIGIN_OF_HOUSEHOLDER_Black_or_African_American_alone','S0601_Median_income_dollars','B05006_Americas_Latin_America_Caribbean','S2201_Pct_RACE_AND_HISPANIC_OR_LATINO_ORIGIN_OF_HOUSEHOLDER_White_alone', 'S2201_Pct_White_alone_not_Hispanic_or_Latino', 'S2201_Pct_households_receiving_food_stamps_SNAP_Estimate_RACE_AND_HISPANIC_OR_LATINO_ORIGIN_OF_HOUSEHOLDER_White_alone', 'S2201_Pct_households_not_receiving_food_stamps_SNAP_Estimate_RACE_AND_HISPANIC_OR_LATINO_ORIGIN_OF_HOUSEHOLDER_White_alone', 'DP05_Pct_RACE_One_race_Asian', 'S2201_Pct_RACE_AND_HISPANIC_OR_LATINO_ORIGIN_OF_HOUSEHOLDER_Black_or_African_American_alone','DP05_Pct_RACE_One_race_Black_or_African_American', 'S2201_Pct_households_receiving_food_stamps_SNAP_Estimate_RACE_AND_HISPANIC_OR_LATINO_ORIGIN_OF_HOUSEHOLDER_Black_or_African_American_alone', 'S1501_Black_alone_High_school_graduate_or_higher', 'S1501_Males_Estimate_Black_alone_High_school_graduate_or_higher','S2701_Pct_Insured_Estimate_EDUCATIONAL_ATTAINMENT_Civilian_noninstitutionalized_population_25_years_and_over_Some_college_or_associates_degree','CASTHMA_CrudePrev', 'S2701_Insured_Estimate_RACE_AND_HISPANIC_OR_LATINO_ORIGIN_Black_or_African_American_alone', 'B04006_West_Indian', 'S2201_Pct_HOUSEHOLD_TYPE_Other_family', 'S1501_Black_alone_Bachelors_degree_or_higher','S2701_Pct_Insured_Estimate_RATIO_OF_INCOME_TO_POVERTY_LEVEL_IN_THE_PAST_12_MONTHS_Civilian_noninstitutionalized_population_for_whom_poverty_status_is_determined_200_to_399_Pct_of_the_poverty_threshold','CHECKUP_CrudePrev', 'S1501_Males_Estimate_Black_alone_Bachelors_degree_or_higher', 'BPHIGH_CrudePrev', 'S1701_Below_poverty_level_Estimate_RACE_AND_HISPANIC_OR_LATINO_ORIGIN_Black_or_African_American_alone', 'S2501_Owner_occupied_housing_units_Estimate_HOUSEHOLD_TYPE_INCLUDING_LIVING_ALONE_AND_AGE_OF_HOUSEHOLDER_Family_households_Married_couple_family','S0701_Moved_within_same_county_Estimate_POVERTY_STATUS_IN_THE_PAST_12_MONTHS_Population_1_year_and_over_for_whom_poverty_status_is_determined_At_or_above_150_Pct_of_the_poverty_level','S2701_Pct_Insured_Estimate_EDUCATIONAL_ATTAINMENT_Civilian_noninstitutionalized_population_25_years_and_over_Some_college_or_associates_degree','S2701_Pct_Insured_Estimate_RATIO_OF_INCOME_TO_POVERTY_LEVEL_IN_THE_PAST_12_MONTHS_Civilian_noninstitutionalized_population_for_whom_poverty_status_is_determined_138_to_199_Pct_of_the_poverty_threshold','S0601_MARITAL_STATUS_Population_15_years_and_over_Divorced_or_separated','DP05_SEX_AND_AGE_Median_age_years']]\n",
        "# #'logSIR',\n",
        "\n",
        "# model = forward_selected(olsObs, 'Prostate_SIR')\n",
        "\n",
        "# print(model.model.formula)\n",
        "# # y ~ X1 + X2 + ... + 1\n",
        "\n",
        "# print(model.rsquared_adj)"
      ],
      "metadata": {
        "id": "rQbXMQSVVXyR"
      },
      "execution_count": null,
      "outputs": []
    },
    {
      "cell_type": "markdown",
      "source": [
        "### Model fitting"
      ],
      "metadata": {
        "id": "kpfeYzwwqRdW"
      }
    },
    {
      "cell_type": "code",
      "source": [
        "# MODEL 1\n",
        "mod = smf.ols(formula='Prostate_SIR ~ S2201_Pct_RACE_AND_HISPANIC_OR_LATINO_ORIGIN_OF_HOUSEHOLDER_Black_or_African_American_alone +  + 1', data=geoIncluData)\n",
        "res = mod.fit()\n",
        "print(res.summary())\n",
        "print(res.ssr)"
      ],
      "metadata": {
        "id": "3p2OkdzlmVu8"
      },
      "execution_count": null,
      "outputs": []
    },
    {
      "cell_type": "code",
      "source": [
        "# MODEL 2\n",
        "mod = smf.ols(formula='Prostate_SIR ~ S2201_Pct_RACE_AND_HISPANIC_OR_LATINO_ORIGIN_OF_HOUSEHOLDER_Black_or_African_American_alone + B05006_Americas_Latin_America_Caribbean +  +  +  +  + S0601_MARITAL_STATUS_Population_15_years_and_over_Now_married_except_separated +  +  +  +  +  +  + 1', data=geoIncluData)\n",
        "res = mod.fit()\n",
        "print(res.summary())\n",
        "print(res.ssr)"
      ],
      "metadata": {
        "id": "z0KbYte1V7Vd"
      },
      "execution_count": null,
      "outputs": []
    },
    {
      "cell_type": "code",
      "source": [
        "# MODEL 3\n",
        "mod = smf.ols(formula='Prostate_SIR ~ S0701_NATIVITY_AND_CITIZENSHIP_STATUS_Foreign_born +S0601_MARITAL_STATUS_Population_15_years_and_over_Now_married_except_separated +S2201_Pct_RACE_AND_HISPANIC_OR_LATINO_ORIGIN_OF_HOUSEHOLDER_Black_or_African_American_alone+ B05006_Americas_Latin_America_Caribbean +  + 1', data=geoIncluData)\n",
        "res = mod.fit()\n",
        "print(res.summary())\n",
        "print(res.ssr)"
      ],
      "metadata": {
        "id": "D1vvtPGGmVu-"
      },
      "execution_count": null,
      "outputs": []
    },
    {
      "cell_type": "code",
      "source": [
        "# MODEL 4\n",
        "mod = smf.ols(formula='Prostate_SIR ~ S2201_Pct_RACE_AND_HISPANIC_OR_LATINO_ORIGIN_OF_HOUSEHOLDER_Black_or_African_American_alone + B05006_Americas_Latin_America_Caribbean +  +  +  +  +  + DP05_Pct_RACE_One_race_Asian  +   + S2201_Pct_RACE_AND_HISPANIC_OR_LATINO_ORIGIN_OF_HOUSEHOLDER_White_alone +  +  +  + 1', data=geoIncluData)\n",
        "res = mod.fit()\n",
        "print(res.summary())\n",
        "print(res.ssr)"
      ],
      "metadata": {
        "id": "ygiE1ao3L_TC"
      },
      "execution_count": null,
      "outputs": []
    },
    {
      "cell_type": "markdown",
      "source": [
        "### Validation"
      ],
      "metadata": {
        "id": "0XAfxfFGlGbq"
      }
    },
    {
      "cell_type": "code",
      "source": [
        "#MODEL1 geoIncluData[['S2201_Pct_RACE_AND_HISPANIC_OR_LATINO_ORIGIN_OF_HOUSEHOLDER_Black_or_African_American_alone']]\n",
        "#MODEL2 geoIncluData[['S0601_MARITAL_STATUS_Population_15_years_and_over_Now_married_except_separated','S2201_Pct_RACE_AND_HISPANIC_OR_LATINO_ORIGIN_OF_HOUSEHOLDER_Black_or_African_American_alone','B05006_Americas_Latin_America_Caribbean']]\n",
        "#MODEL3 geoIncluData[['S0601_MARITAL_STATUS_Population_15_years_and_over_Now_married_except_separated','S2201_Pct_RACE_AND_HISPANIC_OR_LATINO_ORIGIN_OF_HOUSEHOLDER_Black_or_African_American_alone','B05006_Americas_Latin_America_Caribbean','S0701_NATIVITY_AND_CITIZENSHIP_STATUS_Foreign_born']]\n",
        "#MODEL4 geoIncluData[['S2201_Pct_RACE_AND_HISPANIC_OR_LATINO_ORIGIN_OF_HOUSEHOLDER_White_alone','DP05_Pct_RACE_One_race_Asian','B05006_Americas_Latin_America_Caribbean','S2201_Pct_RACE_AND_HISPANIC_OR_LATINO_ORIGIN_OF_HOUSEHOLDER_Black_or_African_American_alone']]\n"
      ],
      "metadata": {
        "id": "02UIeVH1owCZ"
      },
      "execution_count": null,
      "outputs": []
    },
    {
      "cell_type": "code",
      "source": [
        "# check the independent variables\n",
        "X = geoIncluData[['S2201_Pct_RACE_AND_HISPANIC_OR_LATINO_ORIGIN_OF_HOUSEHOLDER_White_alone','DP05_Pct_RACE_One_race_Asian','B05006_Americas_Latin_America_Caribbean','S2201_Pct_RACE_AND_HISPANIC_OR_LATINO_ORIGIN_OF_HOUSEHOLDER_Black_or_African_American_alone']]\n",
        "\n",
        "vif_data = pd.DataFrame()\n",
        "vif_data[\"-Variables-\"] = X.columns\n",
        "\n",
        "# # calculating VIF for each feature, to determine interaction/multicollinearity\n",
        "vif_data[\"*VIF*\"] = [variance_inflation_factor(X.values, i) for i in range(len(X.columns))]\n",
        "\n",
        "print(vif_data)\n",
        "\n",
        "## ideal VIF < 7.5"
      ],
      "metadata": {
        "id": "ZGEN7BuQybDo"
      },
      "execution_count": null,
      "outputs": []
    },
    {
      "cell_type": "code",
      "source": [
        "X = geoIncluData[['S2201_Pct_RACE_AND_HISPANIC_OR_LATINO_ORIGIN_OF_HOUSEHOLDER_White_alone','DP05_Pct_RACE_One_race_Asian','B05006_Americas_Latin_America_Caribbean','S2201_Pct_RACE_AND_HISPANIC_OR_LATINO_ORIGIN_OF_HOUSEHOLDER_Black_or_African_American_alone']]\n",
        "ypred = res.predict(X) # calculate y-predicted to plot predicted/residual plot\n",
        "\n",
        "plt.rcParams['figure.figsize'] = [8,8]\n",
        "\n",
        "sns.set_style('white')\n",
        "sns.residplot(x=ypred,y=res.resid_pearson, lowess=True)\n",
        "plt.xlabel(\"Predicted\")\n",
        "plt.ylabel(\"Residuals\")\n",
        "plt.title(\"Residuals VS. Predicted Plot\",fontsize=15)\n",
        "plt.show()\n"
      ],
      "metadata": {
        "id": "QWJTP6c6XrTK"
      },
      "execution_count": null,
      "outputs": []
    },
    {
      "cell_type": "code",
      "execution_count": null,
      "metadata": {
        "id": "88RvgnDvX7Ra"
      },
      "outputs": [],
      "source": [
        "# Check if residuals are normally distributed\n",
        "plt.rcParams[\"figure.figsize\"] = (20,6)\n",
        "\n",
        "plt.subplot(131)\n",
        "sns.distplot(res.resid_pearson)\n",
        "plt.xlabel(\"Standard Residuals\")\n",
        "plt.ylabel(\"Frequency\")\n",
        "plt.title(\"Histogram of Standard Residuals\",fontsize=15)\n",
        "\n",
        "sns.set_style('whitegrid')\n",
        "plt.subplot(132)\n",
        "sns.boxplot(res.resid_pearson)\n",
        "plt.xlabel(\"Theoretical Quantiles\")\n",
        "plt.title(\"Boxplot of Standard Residuals\",fontsize=15)\n",
        "\n",
        "sns.set_style('white')\n",
        "plt.subplot(133)\n",
        "stats.probplot(res.resid_pearson, dist=\"norm\", plot=plt)\n",
        "plt.xlabel(\"Theoretical Quantiles\")\n",
        "plt.ylabel(\"Sample Quantiles\")\n",
        "plt.title(\"Normal Q-Q plot\")\n",
        "plt.show()"
      ]
    },
    {
      "cell_type": "code",
      "source": [
        "y = geoIncluData['Prostate_SIR']\n",
        "X = geoIncluData[['S2201_Pct_RACE_AND_HISPANIC_OR_LATINO_ORIGIN_OF_HOUSEHOLDER_White_alone','DP05_Pct_RACE_One_race_Asian','B05006_Americas_Latin_America_Caribbean','S2201_Pct_RACE_AND_HISPANIC_OR_LATINO_ORIGIN_OF_HOUSEHOLDER_Black_or_African_American_alone']]\n",
        "\n",
        "reg = LinearRegression().fit(X,y)\n",
        "y_pred = reg.predict(X)\n",
        "print('RFECV')\n",
        "print('Model Score:', reg.score(X,y))\n",
        "print('RMSE of the regression residuals:', np.sqrt(mean_squared_error(y, y_pred)))\n",
        "print('MAE Model:', mean_absolute_error(y, y_pred))\n",
        "print('')\n",
        "\n",
        "# split data for calibration and validation | 80/20 split\n",
        "X_train, X_test, y_train, y_test = train_test_split(X, y, test_size=0.20, random_state=1)\n",
        "\n",
        "# learn relationship from training data\n",
        "reg = LinearRegression().fit(X_train,y_train)\n",
        "\n",
        "y_pred = reg.predict(X_train)\n",
        "print('Training Score (r\\u00b2):', 1 - (1-reg.score(X_train, y_train))*(len(X_train)-1)/(len(X_train)-X_train.shape[1]-1))\n",
        "print('RMSE Train:', np.sqrt(mean_squared_error(y_train, y_pred)))\n",
        "print('MAE Train:', mean_absolute_error(y_train, y_pred))\n",
        "print('')\n",
        "\n",
        "y_pred = reg.predict(X_test)\n",
        "print('Testing Score (r\\u00b2):', 1 - (1-reg.score(X_test, y_test))*(len(X_test)-1)/(len(X_test)-X_test.shape[1]-1))\n",
        "print('RMSE Test:', np.sqrt(mean_squared_error(y_test, y_pred)))\n",
        "print('MAE Test:', mean_absolute_error(y_test, y_pred))"
      ],
      "metadata": {
        "id": "3PIzWyH9X7Rc"
      },
      "execution_count": null,
      "outputs": []
    },
    {
      "cell_type": "markdown",
      "source": [
        "## GWR"
      ],
      "metadata": {
        "id": "1_wMzXN4lpmz"
      }
    },
    {
      "cell_type": "code",
      "source": [
        "#MODEL1 geoIncluData[['S2201_Pct_RACE_AND_HISPANIC_OR_LATINO_ORIGIN_OF_HOUSEHOLDER_Black_or_African_American_alone']]\n",
        "#MODEL2 geoIncluData[['S0601_MARITAL_STATUS_Population_15_years_and_over_Now_married_except_separated','S2201_Pct_RACE_AND_HISPANIC_OR_LATINO_ORIGIN_OF_HOUSEHOLDER_Black_or_African_American_alone','B05006_Americas_Latin_America_Caribbean']]\n",
        "#MODEL3 geoIncluData[['S0601_MARITAL_STATUS_Population_15_years_and_over_Now_married_except_separated','S2201_Pct_RACE_AND_HISPANIC_OR_LATINO_ORIGIN_OF_HOUSEHOLDER_Black_or_African_American_alone','B05006_Americas_Latin_America_Caribbean','S0701_NATIVITY_AND_CITIZENSHIP_STATUS_Foreign_born']]\n",
        "#MODEL4 geoIncluData[['S2201_Pct_RACE_AND_HISPANIC_OR_LATINO_ORIGIN_OF_HOUSEHOLDER_White_alone','DP05_Pct_RACE_One_race_Asian','B05006_Americas_Latin_America_Caribbean','S2201_Pct_RACE_AND_HISPANIC_OR_LATINO_ORIGIN_OF_HOUSEHOLDER_Black_or_African_American_alone']]\n"
      ],
      "metadata": {
        "id": "GA5FNSA1oim-"
      },
      "execution_count": null,
      "outputs": []
    },
    {
      "cell_type": "code",
      "source": [
        "p_y = geoIncluData['Prostate_SIR'].values.reshape((-1,1)) # establish dependent variable\n",
        "p_X = geoIncluData[['B05006_Americas_Latin_America_Caribbean','S0601_MARITAL_STATUS_Population_15_years_and_over_Now_married_except_separated','S2201_Pct_RACE_AND_HISPANIC_OR_LATINO_ORIGIN_OF_HOUSEHOLDER_Black_or_African_American_alone']].values # establish independent variable\n",
        "\n",
        "u = geoIncluData['point'].x # x values from centroid\n",
        "v = geoIncluData['point'].y # y values from centroid\n",
        "p_coords = list(zip(u,v)) # coordinate pairs\n",
        "\n",
        "p_X = (p_X - p_X.mean(axis=0)) / p_X.std(axis=0) # residuals / std dev = studentized residuals (easier to identify outliers)\n",
        "p_y = p_y.reshape((-1,1))\n",
        "p_y = (p_y - p_y.mean(axis=0)) / p_y.std(axis=0)\n",
        "\n",
        "#Calibrate GWR model\n",
        "gwr_bw = Sel_BW(p_coords, p_y, p_X).search() #Find optimal bandwidth using golden section, adaptive bisquare\n",
        "# print('Number of Neighbors (Bandwidth) =', gwr_bw)\n",
        "gwr_results = GWR(p_coords, p_y, p_X, gwr_bw).fit()\n",
        "gwr_results.summary()"
      ],
      "metadata": {
        "id": "25K_xGAta4JU"
      },
      "execution_count": null,
      "outputs": []
    },
    {
      "cell_type": "code",
      "source": [
        "# Local Model Fit\n",
        "\n",
        "geoIncluData['gwr_R2'] = gwr_results.localR2\n",
        "\n",
        "print('min',geoIncluData['gwr_R2'].min(), '| median',geoIncluData['gwr_R2'].median(), '| mean',geoIncluData['gwr_R2'].mean(), '| max',geoIncluData['gwr_R2'].max())\n",
        "print('')\n",
        "\n",
        "geoIncluData.plot('gwr_R2', cmap='Reds', linewidth = 0.1, scheme = 'naturalbreaks', k=5, legend=True, legend_kwds={'bbox_to_anchor':(1.10, 0.96)}, figsize=(30,8))\n",
        "ax = plt.gca()\n",
        "ax.set_axis_off()\n",
        "contextily.add_basemap(ax, crs=geoIncluData.crs, source=contextily.providers.CartoDB.Positron)\n",
        "plt.title('Model 1: GWR Local R\\u00b2', fontsize=20)\n",
        "plt.show()\n"
      ],
      "metadata": {
        "id": "nRaxIDqcZMiH"
      },
      "execution_count": null,
      "outputs": []
    },
    {
      "cell_type": "code",
      "metadata": {
        "id": "whWJu5VqZMiJ"
      },
      "source": [
        "# Map Standard Residuals\n",
        "\n",
        "geoIncluData['stdRes'] = gwr_results.std_res\n",
        "geoIncluData.plot('stdRes', cmap='RdYlBu_r', legend = True, figsize=(16,8))\n",
        "ax = plt.gca()\n",
        "ax.set_axis_off()\n",
        "contextily.add_basemap(ax, crs=geoIncluData.crs, source=contextily.providers.CartoDB.Positron)\n",
        "plt.title(\"Standard Residuals\")\n",
        "plt.show()"
      ],
      "execution_count": null,
      "outputs": []
    },
    {
      "cell_type": "code",
      "source": [
        "y_pred = gwr_results.predy\n",
        "STDresiduals = gwr_results.std_res\n",
        "residuals = gwr_results.resid_response\n",
        "actuals = gwr_results.y\n",
        "cookD = gwr_results.cooksD\n",
        "\n",
        "plt.rcParams[\"figure.figsize\"] = (20,12)\n",
        "sns.set_style('white')\n",
        "\n",
        "plt.subplot(231)\n",
        "plt.scatter(y_pred, actuals)\n",
        "sns.regplot(x=y_pred,y=actuals, lowess=True)\n",
        "plt.title(\"Actuals VS. Predicted Plot [GWR]\")\n",
        "plt.xlabel(\"Predicted\")\n",
        "plt.ylabel(\"Actual Cancer Prevalence\")\n",
        "\n",
        "plt.subplot(232)\n",
        "plt.scatter(y_pred, cookD)\n",
        "plt.title(\"Cook's D VS. Predicted [GWR]\")\n",
        "plt.xlabel(\"Predicted\")\n",
        "plt.ylabel(\"Cook's D\")\n",
        "# Critical Cook's D = 0.00534045393\n",
        "\n",
        "# Residual VS. Predicted Plot\n",
        "plt.subplot(233)\n",
        "sns.residplot(y = STDresiduals, x = y_pred, lowess = True)\n",
        "plt.title(\"Standard Residual VS. Predicted Plot [GWR]\")\n",
        "plt.xlabel(\"Predicted\") #x label\n",
        "plt.ylabel(\"Standard Residual\") #y label\n",
        "\n",
        "plt.subplot(234)\n",
        "sns.set_style('darkgrid')\n",
        "sns.distplot(STDresiduals)\n",
        "plt.title(\"Distribution of Standard Residuals [GWR]\")\n",
        "plt.xlabel(\"Standard Residuals\")\n",
        "plt.ylabel(\"Frequency\")\n",
        "\n",
        "sns.set_style('whitegrid')\n",
        "plt.subplot(235)\n",
        "sns.boxplot(STDresiduals)\n",
        "plt.xlabel(\"Standard Residuals\")\n",
        "plt.title(\"Boxplot of Standard Residuals [GWR]\")\n",
        "\n",
        "sns.set_style('white')\n",
        "plt.subplot(236)\n",
        "stats.probplot(residuals, dist=\"norm\", plot=plt)\n",
        "plt.xlabel(\"Residuals\")\n",
        "plt.title(\"Normal Q-Q plot [GWR]\")\n",
        "plt.show()\n"
      ],
      "metadata": {
        "id": "cXzwr_UoofB4"
      },
      "execution_count": null,
      "outputs": []
    },
    {
      "cell_type": "code",
      "source": [
        "## Global Moran's I on residuals\n",
        "\n",
        "w = ps.weights.Queen.from_dataframe(geoIncluData) # calculate spatial weight based data and conceptualized spatial relationships is Queens case (aka contiguity edges corners)\n",
        "w.transform = 'r' # row standardize\n",
        "y = geoIncluData['stdRes'].values.reshape((-1,1))#.astype('int64')\n",
        "\n",
        "mi = esda.moran.Moran(y, w, permutations= 9999) # p < 0.001 at 999 permutations\n",
        "print('Observed Value:', mi.I, '| Expected Value:', mi.EI, '| Z-Score', mi.z_norm, '| Significance:', mi.p_sim)\n",
        "print('')\n",
        "print(\"The Global Moran's I statistics indicates that the data exhibits a random pattern of the residuals\")"
      ],
      "metadata": {
        "id": "7ZZVs0ieaAjD"
      },
      "execution_count": null,
      "outputs": []
    },
    {
      "cell_type": "markdown",
      "source": [],
      "metadata": {
        "id": "iqUxHxyucJDi"
      }
    },
    {
      "cell_type": "markdown",
      "source": [
        "# Neighborhood Analysis"
      ],
      "metadata": {
        "id": "VFbhIfg9T_IW"
      }
    },
    {
      "cell_type": "code",
      "source": [
        "combinedCO = geoIncluData.assign(COanalysis=labels).reset_index(drop=True)\n",
        "# combinedCO = pd.concat([combinedCO, geoOutlierData], ignore_index=True, axis=0)\n",
        "combinedCO[['Prostate_SIR', 'COanalysis']].groupby('COanalysis').count()#.to_csv('CO analysis count.csv')"
      ],
      "metadata": {
        "id": "0X59NJrCxFvG"
      },
      "execution_count": null,
      "outputs": []
    },
    {
      "cell_type": "code",
      "source": [
        "combinedCO[['Prostate_SIR','TotalPopulation','COanalysis', # Comment out 'COanalysis' for entire study area total\n",
        "'DP05_SEX_AND_AGE_Total_population_Male',\n",
        "'DP05_Pct_SEX_AND_AGE_Total_population_Male',\n",
        "'DP05_SEX_AND_AGE_18_years_and_over_Male',\n",
        "'DP05_Pct_SEX_AND_AGE_18_years_and_over_Male',\n",
        "'DP05_SEX_AND_AGE_65_years_and_over_Male',\n",
        "'DP05_Pct_SEX_AND_AGE_65_years_and_over_Male',\n",
        "'DP05_SEX_AND_AGE_Median_age_years',\n",
        "\n",
        "'DP05_Pct_HISPANIC_OR_LATINO_AND_RACE_Total_population_Not_Hispanic_or_Latino_Black_or_African_American_alone',\n",
        "'DP05_Pct_HISPANIC_OR_LATINO_AND_RACE_Total_population_Not_Hispanic_or_Latino_White_alone',\n",
        "'DP05_Pct_HISPANIC_OR_LATINO_AND_RACE_Total_population_Not_Hispanic_or_Latino_Asian_alone',\n",
        "'DP05_Pct_HISPANIC_OR_LATINO_AND_RACE_Total_population_Not_Hispanic_or_Latino_Some_other_race_alone',\n",
        "'DP05_Pct_HISPANIC_OR_LATINO_AND_RACE_Total_population_Hispanic_or_Latino_of_any_race',\n",
        "\n",
        "'B06008_Estimate_Total',\n",
        "'S0701_NATIVITY_AND_CITIZENSHIP_STATUS_Foreign_born',\n",
        "'B06008_Foreign_born_Never_married',\n",
        "'B06008_Foreign_born_Now_married_except_separated',\n",
        "'B06008_Foreign_born_Divorced',\n",
        "'B06008_Foreign_born_Separated',\n",
        "'B06008_Foreign_born_Widowed',\n",
        "'S0601_MARITAL_STATUS_Population_15_years_and_over_Never_married',\n",
        " 'S0601_MARITAL_STATUS_Population_15_years_and_over_Now_married_except_separated',\n",
        " 'S0601_MARITAL_STATUS_Population_15_years_and_over_Divorced_or_separated',\n",
        " 'S0601_MARITAL_STATUS_Population_15_years_and_over_Widowed',\n",
        "'B05002_Total_Foreign_born','B06003_Foreign_born','B06008_Foreign_born',\n",
        "  'S0701_NATIVITY_AND_CITIZENSHIP_STATUS_Native',\n",
        " 'S0701_NATIVITY_AND_CITIZENSHIP_STATUS_Foreign_born',\n",
        " 'S1603_NATIVITY_AND_CITIZENSHIP_STATUS_Native',\n",
        " 'S1603_NATIVITY_AND_CITIZENSHIP_STATUS_Foreign_born',\n",
        "\n",
        " 'B06008_Born_in_state_of_residence',\n",
        " 'B06008_Born_in_other_state_in_the_United_States',\n",
        "'OBESITY_CrudePrev',\n",
        "'BPHIGH_CrudePrev',\n",
        "'CASTHMA_CrudePrev',\n",
        "'CHECKUP_CrudePrev',\n",
        "'COREM_CrudePrev',\n",
        "'DIABETES_CrudePrev',\n",
        "'SLEEP_CrudePrev',\n",
        "'landfillTractCount',\n",
        "\n",
        "'S2201_Pct_households_receiving_food_stamps_SNAP_Estimate_Households',\n",
        "'S1701_Below_poverty_level_Estimate_UNRELATED_INDIVIDUALS_FOR_WHOM_POVERTY_STATUS_IS_DETERMINED_Male',\n",
        "'B17001_Income_in_the_past_12_months_below_poverty_level_Male',\n",
        "'B17001_Income_in_the_past_12_months_at_or_above_poverty_level_Male',\n",
        "'S2201_HOUSEHOLD_INCOME_IN_THE_PAST_12_MONTHS_IN_2015_INFLATION_ADJUSTED_DOLLARS_Median_income_dollars',\n",
        "'S2201_Pct_POVERTY_STATUS_IN_THE_PAST_12_MONTHS_At_or_above_poverty_level',\n",
        "'S2201_Pct_POVERTY_STATUS_IN_THE_PAST_12_MONTHS_Below_poverty_level',\n",
        "'S0601_POVERTY_STATUS_IN_THE_PAST_12_MONTHS_Population_for_whom_poverty_status_is_determined_100_to_149_Pct_of_the_poverty_level',\n",
        "'S0601_POVERTY_STATUS_IN_THE_PAST_12_MONTHS_Population_for_whom_poverty_status_is_determined_Below_100_Pct_of_the_poverty_level',\n",
        "'S0701_POVERTY_STATUS_IN_THE_PAST_12_MONTHS_Population_1_year_and_over_for_whom_poverty_status_is_determined_Below_100_Pct_of_the_poverty_level',\n",
        "'S0701_POVERTY_STATUS_IN_THE_PAST_12_MONTHS_Population_1_year_and_over_for_whom_poverty_status_is_determined_100_to_149_Pct_of_the_poverty_level',\n",
        "'S0701_POVERTY_STATUS_IN_THE_PAST_12_MONTHS_Population_1_year_and_over_for_whom_poverty_status_is_determined_At_or_above_150_Pct_of_the_poverty_level',\n",
        "'S2701_RATIO_OF_INCOME_TO_POVERTY_LEVEL_IN_THE_PAST_12_MONTHS_Civilian_noninstitutionalized_population_for_whom_poverty_status_is_determined_Below_138_Pct_of_the_poverty_threshold',\n",
        "'S2701_RATIO_OF_INCOME_TO_POVERTY_LEVEL_IN_THE_PAST_12_MONTHS_Civilian_noninstitutionalized_population_for_whom_poverty_status_is_determined_138_to_199_Pct_of_the_poverty_threshold',\n",
        "'S2701_RATIO_OF_INCOME_TO_POVERTY_LEVEL_IN_THE_PAST_12_MONTHS_Civilian_noninstitutionalized_population_for_whom_poverty_status_is_determined_200_to_399_Pct_of_the_poverty_threshold',\n",
        "'S2701_RATIO_OF_INCOME_TO_POVERTY_LEVEL_IN_THE_PAST_12_MONTHS_Civilian_noninstitutionalized_population_for_whom_poverty_status_is_determined_At_or_above_400_Pct_of_the_poverty_threshold',\n",
        "\n",
        "'S0601_EDUCATIONAL_ATTAINMENT_Population_25_years_and_over_Bachelors_degree',\n",
        "'S0601_EDUCATIONAL_ATTAINMENT_Population_25_years_and_over_Less_than_high_school_graduate',\n",
        "'S0601_EDUCATIONAL_ATTAINMENT_Population_25_years_and_over_Some_college_or_associates_degree',\n",
        "'S1501_Pct_Males_Estimate_Population_25_years_and_over_9th_to_12th_grade_no_diploma',\n",
        "'S1501_Pct_Males_Estimate_Population_25_years_and_over_Associates_degree',\n",
        "'S1501_Pct_Males_Estimate_Population_25_years_and_over_Bachelors_degree',\n",
        "'S1501_Pct_Males_Estimate_Population_25_years_and_over_Some_college_no_degree',\n",
        "'S1501_Pct_Males_Estimate_White_alone_not_Hispanic_or_Latino_High_school_graduate_or_higher',\n",
        "'S1501_Pct_Males_Estimate_White_alone_not_Hispanic_or_Latino_Bachelors_degree_or_higher',\n",
        "'S1501_Pct_Males_Estimate_Black_alone_High_school_graduate_or_higher',\n",
        "'S1501_Pct_Males_Estimate_Black_alone_Bachelors_degree_or_higher',\n",
        "'S1501_Pct_Males_Estimate_Asian_alone_High_school_graduate_or_higher',\n",
        "'S1501_Pct_Males_Estimate_Asian_alone_Bachelors_degree_or_higher',\n",
        "'S1501_Pct_Males_Estimate_Some_other_race_alone_High_school_graduate_or_higher',\n",
        "'S1501_Pct_Males_Estimate_Some_other_race_alone_Bachelors_degree_or_higher',\n",
        "'S1501_Pct_Males_Estimate_Two_or_more_races_High_school_graduate_or_higher',\n",
        "'S1501_Pct_Males_Estimate_Two_or_more_races_Bachelors_degree_or_higher',\n",
        "'S1501_Pct_Males_Estimate_Hispanic_or_Latino_Origin_High_school_graduate_or_higher',\n",
        "'S1501_Pct_Males_Estimate_Hispanic_or_Latino_Origin_Bachelors_degree_or_higher',\n",
        "'S2701_Insured_Estimate_SEX_Male',\n",
        "'S2701_Pct_Insured_Estimate_SEX_Male',\n",
        "'S2701_Uninsured_Estimate_SEX_Male',\n",
        "'S2701_Pct_Uninsured_Estimate_SEX_Male',\n",
        "\n",
        "'S0601_MARITAL_STATUS_Population_15_years_and_over_Divorced_or_separated',\n",
        "'S0601_MARITAL_STATUS_Population_15_years_and_over_Never_married',\n",
        "'S0601_MARITAL_STATUS_Population_15_years_and_over_Now_married_except_separated',\n",
        "'S2201_Pct_HOUSEHOLD_TYPE_Married_couple_family',\n",
        "'S2201_Pct_HOUSEHOLD_TYPE_No_children_under_18_years_Married_couple_family',\n",
        "'S2201_Pct_HOUSEHOLD_TYPE_No_children_under_18_years_Other_family',\n",
        "'S2201_Pct_HOUSEHOLD_TYPE_Other_family']].groupby('COanalysis').mean()#.to_csv('CO mean.csv') # REMOVE .groupby('COanalysis') for totals"
      ],
      "metadata": {
        "id": "9X1zaQGTy0Na"
      },
      "execution_count": null,
      "outputs": []
    }
  ]
}